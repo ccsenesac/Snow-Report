# Feature 1
# Past 72 hour snowfall
# First, I need to call time from 3 days ago in UTC then convert it to standard format
# The OpenWeather API requires me to pull 24 hour time periods a at time, 3 separate calls
import requests, time
from datetime import datetime, timedelta, timezone


curr_dt = datetime.now(timezone.utc)
three_day = curr_dt - timedelta(days = 3)
two_day = curr_dt - timedelta(days = 2)
one_day = curr_dt - timedelta(days = 1)
print("Datetime 3 days ago: ", three_day)
print("Datetime 2 days ago: ", two_day)
print("Datetime 1 day ago: ", one_day)

timestamp_three_day = int(round(three_day.timestamp()))
timestamp_two_day = int(round(two_day.timestamp()))
timestamp_one_day = int(round(one_day.timestamp()))
#print("Integer timestamp of datetime 3 days ago: ", timestamp_three_day)
#print("Integer timestamp of datetime 2 days ago: ", timestamp_two_day)
#print("Integer timestamp of datetime 1 day ago: ", timestamp_one_day)


# API calls below for each day
# Whistler
#url = 'https://api.openweathermap.org/data/2.5/onecall/timemachine?lat=50.1162&lon=-122.9535&dt={}&appid=78cd4b8e55f42c6a0511c51e2e938595&mode=JSON'
# Stevens Pass
url = 'https://api.openweathermap.org/data/2.5/onecall/timemachine?lat=47.7462&lon=-121.0859&dt={}&appid=78cd4b8e55f42c6a0511c51e2e938595&mode=JSON'
three_day_data = requests.get(url.format(timestamp_three_day)).json()
two_day_data = requests.get(url.format(timestamp_two_day)).json()
one_day_data = requests.get(url.format(timestamp_one_day)).json()

# Now I need to sort through the data (hour by hour) and pull precipitation numbers, add those together, and assign to a variable
# hourly.snow
hours = range(24)

three_day_snow = 0
two_day_snow = 0
one_day_snow = 0

for i in hours:
  try:
    three_day_snow += three_day_data['hourly'][i]['snow']['1h']
#    two_day_snow += two_day_data['hourly'][i]['snow']['1h']
#    one_day_snow += one_day_data['hourly'][i]['snow']['1h']
  except (IndexError, KeyError, TypeError):
    continue


for i in hours:
  try:
    two_day_snow += two_day_data['hourly'][i]['snow']['1h']
  except (IndexError, KeyError, TypeError):
    continue

for i in hours:
  try:
    one_day_snow += one_day_data['hourly'][i]['snow']['1h']
  except (IndexError, KeyError, TypeError):
    continue
print(round(one_day_snow/25.4,1), round(two_day_snow/25.4,1), round(three_day_snow/25.4,1))
#print(one_day_snow,two_day_snow,three_day_snow)
snow_history = round((one_day_snow + two_day_snow + three_day_snow)/25.4,1)

print("SNOWFALL OVER THE LAST 72 HOURS:",snow_history,'inches')

# Feature 2
# Current snow conditions
# daily.snow

current_data = response.json()
current_report = current_data['current']['weather'][0]['id']
print(current_report)


# Feature 3
# 48 hour forcast
# call into API and take 2 days
# looks something like forecast_snow = ['daily'][0]['snow'] + ['daily'][1]['snow']

forecast_data = response.json()
try: 
  forecast_report_1 = forecast_data['daily'][0]['snow']
except (IndexError, KeyError, TypeError):
  forecast_report_1 = 0

try:
  forecast_report_2 = forecast_data['daily'][1]['snow']
except (IndexError, KeyError, TypeError):
  forecast_report_2 = 0

forecasted_snow = round((forecast_report_1 + forecast_report_2)/25.4,1) # Converting mm to inches

print('ANTICIPATED SNOW (24 HOURS):',forecasted_snow, 'inches')
